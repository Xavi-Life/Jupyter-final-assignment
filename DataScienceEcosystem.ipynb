{
 "cells": [
  {
   "cell_type": "markdown",
   "id": "9d4c45c8-4c0a-452a-b427-ed3c08af1023",
   "metadata": {
    "tags": []
   },
   "source": [
    "# Data Science Tools and Ecosystem\n"
   ]
  },
  {
   "cell_type": "markdown",
   "id": "d67bd69e-617d-41ed-a278-c1549725266f",
   "metadata": {
    "tags": []
   },
   "source": [
    "# Introduction\n",
    "\n",
    "In this notebook, Data Science Tools and Ecosystem are\n",
    "summarized."
   ]
  },
  {
   "cell_type": "markdown",
   "id": "c0ee39d9-ad73-439d-b3c8-8ea0ddaabba3",
   "metadata": {},
   "source": [
    "# Programming Languages in Data Science\n",
    "\n",
    "Some of the popular languages that Data Scientists use are:\n",
    "\n",
    "1. **Python**: A versatile language with a rich ecosystem of libraries for data manipulation, analysis, and machine learning.\n",
    "2. **R**: Specifically designed for statistics and data visualization, widely used among statisticians and data miners.\n",
    "3. **SQL**: A crucial language for querying and managing data in relational databases.\n",
    "4. **Java**: Often used for building large-scale applications and processing big data.\n",
    "5. **Scala**: A language that combines functional and object-oriented programming, commonly used with Apache Spark for big data processing.\n"
   ]
  },
  {
   "cell_type": "markdown",
   "id": "0bbd96b1-ad0a-405e-bee4-d0d1a5a85c89",
   "metadata": {
    "tags": []
   },
   "source": [
    "# Data Science Libraries\n",
    "\n",
    "Some of the commonly used libraries by Data Scientists include:\n",
    "\n",
    "1. **Pandas**: A powerful data manipulation and analysis library for Python, ideal for handling structured data.\n",
    "2. **NumPy**: A fundamental package for numerical computing in Python, providing support for arrays and a wide range of mathematical functions.\n",
    "3. **Matplotlib**: A plotting library for Python that enables the creation of static, interactive, and animated visualizations in Python.\n",
    "4. **Scikit-learn**: A machine learning library for Python that provides simple and efficient tools for data mining and data analysis.\n",
    "5. **TensorFlow**: An open-source library developed by Google for machine learning and deep learning applications.\n"
   ]
  },
  {
   "cell_type": "markdown",
   "id": "8bbfa2d6-70f4-4fb1-93e9-b6b88d8da06c",
   "metadata": {},
   "source": [
    "# Data Science Tools\n",
    "\n",
    "| Data Science Tools   |\n",
    "|----------------------|\n",
    "| Jupyter Notebook      |\n",
    "| RStudio               |\n",
    "| Apache Zeppelin       |\n"
   ]
  },
  {
   "cell_type": "markdown",
   "id": "f3814a1a-ffaf-43a0-9f9a-6b267c5abc57",
   "metadata": {
    "tags": []
   },
   "source": [
    "### Below are a few examples of evaluating arithmetic expressions in Python in Jupyter\n",
    "\n",
    "1. Addition: `10 + 2` results in `12`\n",
    "2. Subtraction: `10 - 2` results in 8\n",
    "3. Multiplication: `10 * 2` results in `20`\n",
    "4. Division: `10 / 2` results in `5.0`\n",
    "5. Exponentiation: `10 ** 2` results in `100`\n",
    "\n"
   ]
  },
  {
   "cell_type": "code",
   "execution_count": 14,
   "id": "3320ac03-76c2-441a-8e43-8bb9160726b4",
   "metadata": {
    "tags": []
   },
   "outputs": [
    {
     "name": "stdout",
     "output_type": "stream",
     "text": [
      "The addcition  10 and 2 is: 12\n",
      "The Subtraction 10 and 2 is: 8\n",
      "The Multiplication 10 and 2 is: 20\n",
      "The Division 10 and 2 is: 5.0\n",
      "The Exponentiation 10 and 2 is: 100\n"
     ]
    }
   ],
   "source": [
    "# Define numbers\n",
    "a = 10\n",
    "b = 2\n",
    "\n",
    "# Addition \n",
    "result = a + b\n",
    "\n",
    "# Print result\n",
    "print(\"The addcition \", a, \"and\", b, \"is:\", result)\n",
    "\n",
    "# Subtraction \n",
    "result = a - b\n",
    "\n",
    "# Print result\n",
    "print(\"The Subtraction\", a, \"and\", b, \"is:\", result)\n",
    "\n",
    "# Multiplication \n",
    "result = a * b\n",
    "\n",
    "# Print result\n",
    "print(\"The Multiplication\", a, \"and\", b, \"is:\", result)\n",
    "\n",
    "# Division \n",
    "result = a / b\n",
    "\n",
    "# Print result\n",
    "print(\"The Division\", a, \"and\", b, \"is:\", result)\n",
    "\n",
    "# Exponentiation \n",
    "result = a ** b\n",
    "\n",
    "# Print result\n",
    "print(\"The Exponentiation\", a, \"and\", b, \"is:\", result)\n",
    "\n",
    "\n"
   ]
  },
  {
   "cell_type": "markdown",
   "id": "1a11e8ce-e209-498f-94c2-405f27f87195",
   "metadata": {},
   "source": [
    "# This is a simple arithmetic expression to multiply then add integers\n",
    "result = (3 * 4) + 5\n",
    "\n",
    "# Print result\n",
    "print(\"The result he result of the expression (3 * 4) + 5 is:\", result)\n"
   ]
  },
  {
   "cell_type": "code",
   "execution_count": 16,
   "id": "73030819-c7ee-4c67-92cf-fc1d13ecd8e4",
   "metadata": {
    "tags": []
   },
   "outputs": [
    {
     "name": "stdout",
     "output_type": "stream",
     "text": [
      "The result he result of the expression (3 * 4) + 5 is: 17\n"
     ]
    }
   ],
   "source": [
    "# This is a simple arithmetic expression to multiply then add integers\n",
    "result = (3 * 4) + 5\n",
    "\n",
    "# Print result\n",
    "print(\"The result he result of the expression (3 * 4) + 5 is:\", result)"
   ]
  },
  {
   "cell_type": "markdown",
   "id": "668d1c41-c6c0-436f-a30d-e42eb9e3afa2",
   "metadata": {
    "tags": []
   },
   "source": [
    "# This will convert 200 minutes to hours by dividing by 60\n",
    "minutes = 200\n",
    "hours = minutes / 60\n",
    "\n",
    "# Print the result\n",
    "print(\"200 minutes are equivalent to:\", hours, \"hours\")"
   ]
  },
  {
   "cell_type": "code",
   "execution_count": 20,
   "id": "fd599ad8-c6b3-4603-8af5-7dcc2b991262",
   "metadata": {
    "tags": []
   },
   "outputs": [
    {
     "name": "stdout",
     "output_type": "stream",
     "text": [
      "200 minutes are equivalent to: 3.3333333333333335 hours\n"
     ]
    }
   ],
   "source": [
    "# This will convert 200 minutes to hours by dividing by 60\n",
    "minutes = 200\n",
    "hours = minutes / 60\n",
    "\n",
    "# Print the result\n",
    "print(\"200 minutes are equivalent to:\", hours, \"hours\")"
   ]
  },
  {
   "cell_type": "markdown",
   "id": "118eac6a-1ab8-4f47-b8b7-6878510487ae",
   "metadata": {},
   "source": [
    "**Objectives:**\n",
    "\n",
    "- List popular languages for Data Science\n",
    "- Identify commonly used libraries in Data Science\n",
    "- Understand data science tools and their applications\n",
    "- Evaluate arithmetic expressions in Python\n",
    "- Convert units of time (e.g., minutes to hours)\n"
   ]
  },
  {
   "cell_type": "markdown",
   "id": "48dc4e59-5edb-45cd-80c2-96568130d24b",
   "metadata": {
    "tags": []
   },
   "source": [
    "## Author\n",
    "\n",
    "Javier Presas Cacheda\n"
   ]
  }
 ],
 "metadata": {
  "kernelspec": {
   "display_name": "Python",
   "language": "python",
   "name": "conda-env-python-py"
  },
  "language_info": {
   "codemirror_mode": {
    "name": "ipython",
    "version": 3
   },
   "file_extension": ".py",
   "mimetype": "text/x-python",
   "name": "python",
   "nbconvert_exporter": "python",
   "pygments_lexer": "ipython3",
   "version": "3.7.12"
  }
 },
 "nbformat": 4,
 "nbformat_minor": 5
}
